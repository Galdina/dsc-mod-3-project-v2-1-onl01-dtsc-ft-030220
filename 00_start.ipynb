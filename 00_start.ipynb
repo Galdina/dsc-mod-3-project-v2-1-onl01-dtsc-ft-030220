{
 "cells": [
  {
   "cell_type": "markdown",
   "metadata": {},
   "source": [
    "# Module 3 project\n",
    "Collect information about problem:\n",
    "\n",
    "1. **Customer churn**, also known as customer attrition, occurs when customers stop doing business with a company or stop using a company’s services. By being aware of and monitoring churn rate, companies are equipped to determine their customer retention success rates and identify strategies for improvement. We can use a machine learning model to understand the precise customer behaviors and attributes which signal the risk and timing of customer churn.\n"
   ]
  },
  {
   "cell_type": "code",
   "execution_count": null,
   "metadata": {},
   "outputs": [],
   "source": []
  },
  {
   "cell_type": "code",
   "execution_count": null,
   "metadata": {},
   "outputs": [],
   "source": []
  },
  {
   "cell_type": "markdown",
   "metadata": {},
   "source": [
    "## Total and Monthly Charges\n",
    "\n",
    "On average, the total amount charged to the customers is lower for the customers who have churned. On the other hand, in the monthly perspective, we see that the average customers churning are paying higher monthly charges.\n",
    "\n",
    "There are a couple major factors to consider before coming to any conclusions regarding the average charges. Firstly, it would make sense that the total amount charged to the customers who churned would be lower, as they may have stayed with the company considerably less time than the costumers who stayed with the company. In this case, we would have to investigate how long each customer has been with the company, a feature not in this dataset. Secondly, in regards to the monthly charges, it could be possible that long-time customers could have had a discount. It's also possible that long-term customers pay for less services. Let's investigate this possibility by using the previously created feature for the total amount of services a customer has."
   ]
  },
  {
   "cell_type": "markdown",
   "metadata": {},
   "source": [
    "## Number of customers per Number Sevices\n",
    "It certainly looks like most of the company's ongoing contracts consist of a single service, and interestingly, the second most popular number of services for the non-churn customers is 4. In regards to the churn customers, the most popular number of services is 1, and the distribution appears to decrease linearly from then on.\n",
    "\n",
    "Let's look at these services a bit closer."
   ]
  },
  {
   "cell_type": "code",
   "execution_count": null,
   "metadata": {},
   "outputs": [],
   "source": []
  }
 ],
 "metadata": {
  "kernelspec": {
   "display_name": "Python 3",
   "language": "python",
   "name": "python3"
  },
  "language_info": {
   "codemirror_mode": {
    "name": "ipython",
    "version": 3
   },
   "file_extension": ".py",
   "mimetype": "text/x-python",
   "name": "python",
   "nbconvert_exporter": "python",
   "pygments_lexer": "ipython3",
   "version": "3.7.4"
  }
 },
 "nbformat": 4,
 "nbformat_minor": 2
}
